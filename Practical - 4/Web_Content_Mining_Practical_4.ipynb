{
  "nbformat": 4,
  "nbformat_minor": 0,
  "metadata": {
    "colab": {
      "provenance": []
    },
    "kernelspec": {
      "name": "python3",
      "display_name": "Python 3"
    },
    "language_info": {
      "name": "python"
    }
  },
  "cells": [
    {
      "cell_type": "code",
      "source": [
        "#web content mining"
      ],
      "metadata": {
        "id": "k39JU3PRCTzJ"
      },
      "execution_count": 1,
      "outputs": []
    },
    {
      "cell_type": "code",
      "source": [
        "import requests\n",
        "from bs4 import BeautifulSoup\n",
        "\n",
        "# URL to mine\n",
        "url = \"https://en.wikipedia.org/wiki/Microsoft\"\n",
        "\n",
        "# Send a GET request to the URL\n",
        "response = requests.get(url)\n",
        "if response.status_code == 200:\n",
        "    # Parse the HTML content\n",
        "    soup = BeautifulSoup(response.content, 'html.parser')\n",
        "\n",
        "    # Extract the title of the page\n",
        "    title = soup.title.string if soup.title else \"No title\"\n",
        "    print(f\"Page Title: {title}\")\n",
        "\n",
        "    # Extract all paragraphs\n",
        "    paragraphs = [p.get_text() for p in soup.find_all('p')]\n",
        "    print(\"\\nExtracted Paragraphs:\")\n",
        "    for para in paragraphs[:5]:  # Display first 5 paragraphs\n",
        "        print(para)\n",
        "\n",
        "    # Extract all links\n",
        "    links = [a['href'] for a in soup.find_all('a', href=True)]\n",
        "    print(\"\\nExtracted Links:\")\n",
        "    for link in links[:5]:  # Display first 5 links\n",
        "        print(link)\n",
        "else:\n",
        "    print(f\"Failed to retrieve the page. Status code: {response.status_code}\")\n"
      ],
      "metadata": {
        "colab": {
          "base_uri": "https://localhost:8080/"
        },
        "id": "sCN6lZH0CC4B",
        "outputId": "43fef8a9-adaa-4456-9ef6-c4df68fe085d"
      },
      "execution_count": 2,
      "outputs": [
        {
          "output_type": "stream",
          "name": "stdout",
          "text": [
            "Page Title: Microsoft - Wikipedia\n",
            "\n",
            "Extracted Paragraphs:\n",
            "\n",
            "\n",
            "Microsoft Corporation is an American multinational technology conglomerate headquartered in Redmond, Washington.[2] Founded in 1975, the company became highly influential in the rise of personal computers through software like Windows, and the company has since expanded to Internet services, cloud computing, video gaming and other fields. Microsoft is the largest software maker, one of the most valuable public U.S. companies,[a] and one of the most valuable brands globally.\n",
            "\n",
            "Microsoft was founded by Bill Gates and Paul Allen to develop and sell BASIC interpreters for the Altair 8800. It rose to dominate the personal computer operating system market with MS-DOS in the mid-1980s, followed by Windows. During the 41 years from 1980 to 2021 Microsoft released 9 versions of MS-DOS with a median frequency of 2 years, and 13 versions of Microsoft Windows with a median frequency of 3 years. The company's 1986 initial public offering (IPO) and subsequent rise in its share price created three billionaires and an estimated 12,000 millionaires among Microsoft employees. Since the 1990s, it has increasingly diversified from the operating system market. Steve Ballmer replaced Gates as CEO in 2000 which would see the then-largest of Microsoft's corporate acquisitions in Skype Technologies in 2011,[3] and an increased focus on hardware[4][5] that led to its first in-house PC line, the Surface, in 2012, and the formation of Microsoft Mobile through Nokia. Since Satya Nadella took over as CEO in 2014, the company has changed focus towards cloud computing,[6][7] as well as its large acquisition of LinkedIn for $26.2 billion in 2016.[8] Under Nadella's direction, the company has also expanded its video gaming business to support the Xbox brand, establishing the Microsoft Gaming division in 2022, which is currently[b] the third-largest gaming company in the world by revenue,[9] following the 2023 acquisition of Activision Blizzard for $68.7 billion.[10]\n",
            "\n",
            "Microsoft has been market-dominant in the IBM PC–compatible operating system market and the office software suite market since the 1990s. Its best-known software products are the Windows line of operating systems, the Microsoft 365 suite of productivity applications, the Azure cloud computing platform, and the Edge web browser. Its flagship hardware products are the Xbox video game consoles and the Microsoft Surface lineup of touchscreen personal computers. Other consumer and enterprise software it produces include Internet search with Bing; digital services through MSN; mixed reality through HoloLens; cloud computing with Azure; and software development through Visual Studio. \n",
            "\n",
            "Microsoft is considered one of the Big Five American information technology companies, alongside Alphabet,[c] Amazon, Apple, and Meta.[d] In April 2019, Microsoft reached a trillion-dollar market cap, becoming the third public U.S. company to be valued at over $1 trillion. It has been criticized for its monopolistic practices, and the company's software has been criticized for problems with ease of use, robustness, and security.\n",
            "\n",
            "\n",
            "Extracted Links:\n",
            "#bodyContent\n",
            "/wiki/Main_Page\n",
            "/wiki/Wikipedia:Contents\n",
            "/wiki/Portal:Current_events\n",
            "/wiki/Special:Random\n"
          ]
        }
      ]
    }
  ]
}