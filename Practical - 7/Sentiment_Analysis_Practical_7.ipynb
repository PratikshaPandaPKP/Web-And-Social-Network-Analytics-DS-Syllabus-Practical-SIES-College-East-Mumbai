{
  "nbformat": 4,
  "nbformat_minor": 0,
  "metadata": {
    "colab": {
      "provenance": []
    },
    "kernelspec": {
      "name": "python3",
      "display_name": "Python 3"
    },
    "language_info": {
      "name": "python"
    }
  },
  "cells": [
    {
      "cell_type": "code",
      "source": [
        "from textblob import TextBlob\n",
        "\n",
        "# List of 10 sample texts\n",
        "texts = [\n",
        "    \"I love programming! It's so much fun.\",\n",
        "    \"I hate waiting in long lines.\",\n",
        "    \"The weather is great today.\",\n",
        "    \"I'm feeling really sad and depressed.\",\n",
        "    \"This is the best movie I've seen in years!\",\n",
        "    \"I am not happy with my exam results.\",\n",
        "    \"The food was absolutely delicious!\",\n",
        "    \"I don't like how things turned out.\",\n",
        "    \"I'm so excited for the weekend!\",\n",
        "    \"Everything is going wrong today.\"\n",
        "]\n",
        "\n",
        "# Sentiment analysis for each text\n",
        "for text in texts:\n",
        "    blob = TextBlob(text)\n",
        "    sentiment = blob.sentiment.polarity\n",
        "    if sentiment > 0:\n",
        "        print(f\"Text: '{text}' => Positive sentiment\")\n",
        "    elif sentiment < 0:\n",
        "        print(f\"Text: '{text}' => Negative sentiment\")\n",
        "    else:\n",
        "        print(f\"Text: '{text}' => Neutral sentiment\")\n"
      ],
      "metadata": {
        "colab": {
          "base_uri": "https://localhost:8080/"
        },
        "id": "_y9IWBJL9qDk",
        "outputId": "6b16a4ae-c462-48a6-d157-d84435e0c3a6"
      },
      "execution_count": 1,
      "outputs": [
        {
          "output_type": "stream",
          "name": "stdout",
          "text": [
            "Text: 'I love programming! It's so much fun.' => Positive sentiment\n",
            "Text: 'I hate waiting in long lines.' => Negative sentiment\n",
            "Text: 'The weather is great today.' => Positive sentiment\n",
            "Text: 'I'm feeling really sad and depressed.' => Negative sentiment\n",
            "Text: 'This is the best movie I've seen in years!' => Positive sentiment\n",
            "Text: 'I am not happy with my exam results.' => Negative sentiment\n",
            "Text: 'The food was absolutely delicious!' => Positive sentiment\n",
            "Text: 'I don't like how things turned out.' => Neutral sentiment\n",
            "Text: 'I'm so excited for the weekend!' => Positive sentiment\n",
            "Text: 'Everything is going wrong today.' => Negative sentiment\n"
          ]
        }
      ]
    }
  ]
}