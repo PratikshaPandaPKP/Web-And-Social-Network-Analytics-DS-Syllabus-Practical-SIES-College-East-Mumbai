{
  "nbformat": 4,
  "nbformat_minor": 0,
  "metadata": {
    "colab": {
      "provenance": []
    },
    "kernelspec": {
      "name": "python3",
      "display_name": "Python 3"
    },
    "language_info": {
      "name": "python"
    }
  },
  "cells": [
    {
      "cell_type": "code",
      "execution_count": 1,
      "metadata": {
        "colab": {
          "base_uri": "https://localhost:8080/"
        },
        "id": "VZQC0onBEJkw",
        "outputId": "573cd2a5-2f37-4b41-9cdd-0385332a9a4c"
      },
      "outputs": [
        {
          "output_type": "stream",
          "name": "stdout",
          "text": [
            "Full Dataset with Sentiments:\n",
            "                                                Text Sentiment\n",
            "0  I love this product! It's amazing and works pe...  Positive\n",
            "1  The service was terrible, and I'm very disappo...  Negative\n",
            "2      Great quality and excellent customer support.  Positive\n",
            "3         Not worth the money. I won't recommend it.  Negative\n",
            "4       This is an average product. Nothing special.  Positive\n",
            "\n",
            "Opinions related to 'product':\n",
            "                                                Text Sentiment\n",
            "0  I love this product! It's amazing and works pe...  Positive\n",
            "4       This is an average product. Nothing special.  Positive\n"
          ]
        },
        {
          "output_type": "stream",
          "name": "stderr",
          "text": [
            "[nltk_data] Downloading package punkt to /root/nltk_data...\n",
            "[nltk_data]   Package punkt is already up-to-date!\n"
          ]
        }
      ],
      "source": [
        "import pandas as pd\n",
        "from textblob import TextBlob\n",
        "import nltk\n",
        "nltk.download('punkt')\n",
        "\n",
        "# Sample dataset\n",
        "data = {\n",
        "    \"Text\": [\n",
        "        \"I love this product! It's amazing and works perfectly.\",\n",
        "        \"The service was terrible, and I'm very disappointed.\",\n",
        "        \"Great quality and excellent customer support.\",\n",
        "        \"Not worth the money. I won't recommend it.\",\n",
        "        \"This is an average product. Nothing special.\"\n",
        "    ]\n",
        "}\n",
        "\n",
        "# Load data into a DataFrame\n",
        "df = pd.DataFrame(data)\n",
        "\n",
        "# Function to extract sentiment\n",
        "def get_sentiment(text):\n",
        "    blob = TextBlob(text)\n",
        "    polarity = blob.sentiment.polarity\n",
        "    if polarity > 0:\n",
        "        return \"Positive\"\n",
        "    elif polarity < 0:\n",
        "        return \"Negative\"\n",
        "    else:\n",
        "        return \"Neutral\"\n",
        "\n",
        "# Apply sentiment analysis\n",
        "df['Sentiment'] = df['Text'].apply(get_sentiment)\n",
        "\n",
        "# Function to search for opinions containing specific keywords\n",
        "def search_opinions(keyword):\n",
        "    keyword = keyword.lower()\n",
        "    result = df[df['Text'].str.lower().str.contains(keyword)]\n",
        "    return result\n",
        "\n",
        "# Example usage\n",
        "print(\"Full Dataset with Sentiments:\")\n",
        "print(df)\n",
        "\n",
        "# Search for opinions related to 'product'\n",
        "keyword = \"product\"\n",
        "print(f\"\\nOpinions related to '{keyword}':\")\n",
        "print(search_opinions(keyword))\n"
      ]
    }
  ]
}