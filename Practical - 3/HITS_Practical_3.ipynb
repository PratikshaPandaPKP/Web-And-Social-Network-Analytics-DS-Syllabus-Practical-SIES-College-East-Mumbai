{
  "nbformat": 4,
  "nbformat_minor": 0,
  "metadata": {
    "colab": {
      "provenance": []
    },
    "kernelspec": {
      "name": "python3",
      "display_name": "Python 3"
    },
    "language_info": {
      "name": "python"
    }
  },
  "cells": [
    {
      "cell_type": "code",
      "source": [
        "import numpy as np\n",
        "\n",
        "# Adjacency matrix for the example\n",
        "link_matrix = np.array([\n",
        "    [0, 1, 1],  # Links from A\n",
        "    [0, 0, 1],  # Links from B\n",
        "    [0, 0, 0]   # Links from C\n",
        "])\n",
        "\n",
        "# Initialize hub and authority scores\n",
        "num_pages = link_matrix.shape[0]\n",
        "hub_scores = np.ones(num_pages)\n",
        "authority_scores = np.ones(num_pages)\n",
        "\n",
        "# Function to normalize scores\n",
        "def normalize(scores):\n",
        "    norm = np.linalg.norm(scores)\n",
        "    return scores / norm if norm != 0 else scores\n",
        "\n",
        "# Threshold for convergence\n",
        "threshold = 1e-6\n",
        "max_iterations = 1000  # To avoid infinite loops if convergence fails\n",
        "\n",
        "for iteration in range(max_iterations):\n",
        "    # Save old scores for comparison\n",
        "    old_authority_scores = authority_scores.copy()\n",
        "    old_hub_scores = hub_scores.copy()\n",
        "\n",
        "    # Update authority scores\n",
        "    authority_scores = np.dot(link_matrix.T, hub_scores)\n",
        "    authority_scores = normalize(authority_scores)\n",
        "\n",
        "    # Update hub scores\n",
        "    hub_scores = np.dot(link_matrix, authority_scores)\n",
        "    hub_scores = normalize(hub_scores)\n",
        "\n",
        "    # Check for convergence\n",
        "    if (np.allclose(authority_scores, old_authority_scores, atol=threshold) and\n",
        "        np.allclose(hub_scores, old_hub_scores, atol=threshold)):\n",
        "        break\n",
        "\n",
        "# Final Output\n",
        "print(\"Final Scores after Convergence:\")\n",
        "for i in range(num_pages):\n",
        "    print(f\"Page {chr(65 + i)} -> Authority: {authority_scores[i]:.6f}, Hub: {hub_scores[i]:.6f}\")\n",
        "print(f\"Converged after {iteration + 1} iterations.\")\n"
      ],
      "metadata": {
        "colab": {
          "base_uri": "https://localhost:8080/"
        },
        "id": "WBvIfpBSfbIn",
        "outputId": "007d951f-4572-411e-ba2d-fcb174327eab"
      },
      "execution_count": 14,
      "outputs": [
        {
          "output_type": "stream",
          "name": "stdout",
          "text": [
            "Final Scores after Convergence:\n",
            "Page A -> Authority: 0.000000, Hub: 0.850651\n",
            "Page B -> Authority: 0.525730, Hub: 0.525731\n",
            "Page C -> Authority: 0.850651, Hub: 0.000000\n",
            "Converged after 7 iterations.\n"
          ]
        }
      ]
    }
  ]
}