{
  "nbformat": 4,
  "nbformat_minor": 0,
  "metadata": {
    "colab": {
      "provenance": []
    },
    "kernelspec": {
      "name": "python3",
      "display_name": "Python 3"
    },
    "language_info": {
      "name": "python"
    }
  },
  "cells": [
    {
      "cell_type": "code",
      "source": [
        "def pagerank(links, d=0.85, max_iter=1000, tol=1e-6):\n",
        "    # Number of pages (websites)\n",
        "    N = len(links)\n",
        "\n",
        "    # Initialize the rank of each page to be 1 / N\n",
        "    ranks = {page: 1 / N for page in links}\n",
        "\n",
        "    # Iterate to update the ranks\n",
        "    for _ in range(max_iter):\n",
        "        new_ranks = {}\n",
        "        for page in links:\n",
        "            # Sum the ranks of the linked pages, weighted by their link count\n",
        "            rank_sum = sum(ranks[linked_page] / len(links[linked_page]) for linked_page in links if page in links[linked_page])\n",
        "            new_ranks[page] = (1 - d) / N + d * rank_sum\n",
        "\n",
        "        # Check for convergence (when the PageRank values stop changing)\n",
        "        if all(abs(new_ranks[page] - ranks[page]) < tol for page in ranks):\n",
        "            break\n",
        "\n",
        "        ranks = new_ranks\n",
        "\n",
        "    return ranks\n",
        "\n",
        "# Example: Websites and their links (URLs)\n",
        "links = {\n",
        "    'https://www.java.com/en/': ['https://www.google.com/', 'https://www.microsoft.com/en-in'],  # Java page links to Google and Microsoft\n",
        "    'https://www.google.com/': ['https://www.java.com/en/'],  # Google links to Java page\n",
        "    'https://www.microsoft.com/en-in': ['https://www.java.com/en/', 'https://www.google.com/']  # Microsoft links to Java and Google\n",
        "}\n",
        "\n",
        "# Calculate PageRank\n",
        "ranks = pagerank(links)\n",
        "\n",
        "# Print the final PageRank values\n",
        "print(\"Final PageRank values:\", ranks)\n"
      ],
      "metadata": {
        "colab": {
          "base_uri": "https://localhost:8080/"
        },
        "id": "4uLAhNvAwx1j",
        "outputId": "822bfe0f-abfa-46f5-cd23-69715c942dcb"
      },
      "execution_count": 1,
      "outputs": [
        {
          "output_type": "stream",
          "name": "stdout",
          "text": [
            "Final PageRank values: {'https://www.java.com/en/': 0.4327479144235775, 'https://www.google.com/': 0.3333333333333333, 'https://www.microsoft.com/en-in': 0.2339187522430891}\n"
          ]
        }
      ]
    }
  ]
}