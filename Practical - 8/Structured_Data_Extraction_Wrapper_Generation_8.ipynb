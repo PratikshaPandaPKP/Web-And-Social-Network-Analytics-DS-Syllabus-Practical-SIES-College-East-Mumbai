{
  "nbformat": 4,
  "nbformat_minor": 0,
  "metadata": {
    "colab": {
      "provenance": []
    },
    "kernelspec": {
      "name": "python3",
      "display_name": "Python 3"
    },
    "language_info": {
      "name": "python"
    }
  },
  "cells": [
    {
      "cell_type": "code",
      "execution_count": 1,
      "metadata": {
        "colab": {
          "base_uri": "https://localhost:8080/"
        },
        "id": "niO0ttRi3ydp",
        "outputId": "551e53a9-5dd9-448e-f671-e0fdc1e01701"
      },
      "outputs": [
        {
          "output_type": "stream",
          "name": "stdout",
          "text": [
            "Product: Laptop XYZ, Price: $1200\n",
            "Product: Smartphone ABC, Price: $800\n"
          ]
        }
      ],
      "source": [
        "from bs4 import BeautifulSoup\n",
        "\n",
        "# Sample HTML (Simulating an e-commerce product page)\n",
        "html_doc = \"\"\"\n",
        "<html>\n",
        "    <body>\n",
        "        <div class=\"product\">\n",
        "            <h2 class=\"title\">Laptop XYZ</h2>\n",
        "            <span class=\"price\">$1200</span>\n",
        "        </div>\n",
        "        <div class=\"product\">\n",
        "            <h2 class=\"title\">Smartphone ABC</h2>\n",
        "            <span class=\"price\">$800</span>\n",
        "        </div>\n",
        "    </body>\n",
        "</html>\n",
        "\"\"\"\n",
        "\n",
        "# Parse the HTML\n",
        "soup = BeautifulSoup(html_doc, 'html.parser')\n",
        "\n",
        "# Extract product details\n",
        "products = []\n",
        "for product in soup.find_all(\"div\", class_=\"product\"):\n",
        "    title = product.find(\"h2\", class_=\"title\").text.strip()\n",
        "    price = product.find(\"span\", class_=\"price\").text.strip()\n",
        "    products.append({\"Title\": title, \"Price\": price})\n",
        "\n",
        "# Display extracted data\n",
        "for item in products:\n",
        "    print(f\"Product: {item['Title']}, Price: {item['Price']}\")\n"
      ]
    }
  ]
}