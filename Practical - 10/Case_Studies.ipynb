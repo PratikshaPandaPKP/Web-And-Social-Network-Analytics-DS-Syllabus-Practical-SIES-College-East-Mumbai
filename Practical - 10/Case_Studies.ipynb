{
  "nbformat": 4,
  "nbformat_minor": 0,
  "metadata": {
    "colab": {
      "provenance": []
    },
    "kernelspec": {
      "name": "python3",
      "display_name": "Python 3"
    },
    "language_info": {
      "name": "python"
    }
  },
  "cells": [
    {
      "cell_type": "code",
      "source": [
        "import pandas as pd\n",
        "from collections import Counter\n",
        "\n",
        "# Load dataset from CSV\n",
        "facebook = pd.read_csv(\"/content/Facebook Reviews Apple iPhone 15 Pro.csv\", encoding=\"ISO-8859-1\")\n",
        "google = pd.read_csv(\"/content/Google Reviews Apple iPhone 15 Pro.csv\", encoding=\"ISO-8859-1\")\n",
        "instagram = pd.read_csv(\"/content/Instagram Reviews Apple iPhone 15 Pro.csv\", encoding=\"ISO-8859-1\")\n",
        "twitter = pd.read_csv(\"/content/Twitter Reviews Apple iPhone 15 Pro.csv\", encoding=\"ISO-8859-1\")\n",
        "\n",
        "# Combine all datasets into a dictionary\n",
        "platforms = {\"Facebook\": facebook, \"Google\": google, \"Instagram\": instagram, \"Twitter\": twitter}\n",
        "\n",
        "# Function to count sentiments\n",
        "def count_sentiments(df):\n",
        "    return Counter(df[\"Sentiment\"])  # Assumes \"Sentiment\" column exists\n",
        "\n",
        "# Analyze sentiment for each platform\n",
        "results = {platform: count_sentiments(data) for platform, data in platforms.items()}\n",
        "\n",
        "# Display results\n",
        "for platform, counts in results.items():\n",
        "    print(f\"{platform}: {counts}\")\n",
        "\n",
        "# Determine overall reception\n",
        "positive_support = sum(1 for counts in results.values() if counts.get(\"Positive\", 0) > counts.get(\"Negative\", 0))\n",
        "print(f\"\\nPlatforms supporting positive sentiment: {positive_support}/{len(results)}\")\n",
        "print(\"The product is generally well-received!\" if positive_support >= 3 else \"The product has mixed or poor reception.\")"
      ],
      "metadata": {
        "colab": {
          "base_uri": "https://localhost:8080/"
        },
        "id": "nRn2hfoUIXjw",
        "outputId": "1d8bf612-9754-4031-9d18-ca39a1759a11"
      },
      "execution_count": 1,
      "outputs": [
        {
          "output_type": "stream",
          "name": "stdout",
          "text": [
            "Facebook: Counter({'Positive': 10, 'Negative': 10})\n",
            "Google: Counter({'Positive': 10, 'Negative': 8, 'Neutral': 2})\n",
            "Instagram: Counter({'Positive': 10, 'Negative': 8, 'Neutral': 2})\n",
            "Twitter: Counter({'Positive': 10, 'Negative': 8, 'Neutral': 2})\n",
            "\n",
            "Platforms supporting positive sentiment: 3/4\n",
            "The product is generally well-received!\n"
          ]
        }
      ]
    }
  ]
}