{
  "nbformat": 4,
  "nbformat_minor": 0,
  "metadata": {
    "colab": {
      "provenance": []
    },
    "kernelspec": {
      "name": "python3",
      "display_name": "Python 3"
    },
    "language_info": {
      "name": "python"
    }
  },
  "cells": [
    {
      "cell_type": "code",
      "source": [
        "def weighted_pagerank(links, link_weights, d=0.85, max_iter=1000, tol=1e-6):\n",
        "    # Number of pages (websites)\n",
        "    N = len(links)\n",
        "\n",
        "    # Initialize the rank of each page to be 1 / N\n",
        "    ranks = {page: 1 / N for page in links}\n",
        "\n",
        "    # Iterate to update the ranks\n",
        "    for _ in range(max_iter):\n",
        "        new_ranks = {}\n",
        "        for page in links:\n",
        "            rank_sum = 0\n",
        "            for linked_page in links:\n",
        "                # If the page is linked to the current page, update its rank\n",
        "                if page in links[linked_page]:\n",
        "                    # Multiply by the link weight for this link\n",
        "                    rank_sum += ranks[linked_page] * link_weights[linked_page][page] / sum(link_weights[linked_page].values())\n",
        "            new_ranks[page] = (1 - d) / N + d * rank_sum\n",
        "\n",
        "        # Check for convergence (when the PageRank values stop changing)\n",
        "        if all(abs(new_ranks[page] - ranks[page]) < tol for page in ranks):\n",
        "            break\n",
        "\n",
        "        ranks = new_ranks\n",
        "\n",
        "    return ranks\n",
        "\n",
        "# Example: Websites and their links (URLs)\n",
        "links = {\n",
        "    'https://www.java.com/en/': ['https://www.google.com/', 'https://www.microsoft.com/en-in'],  # Java page links to Google and Microsoft\n",
        "    'https://www.google.com/': ['https://www.java.com/en/'],  # Google links to Java page\n",
        "    'https://www.microsoft.com/en-in': ['https://www.java.com/en/', 'https://www.google.com/']  # Microsoft links to Java and Google\n",
        "}\n",
        "\n",
        "# Link weights (example, assuming different weights for links)\n",
        "link_weights = {\n",
        "    'https://www.java.com/en/': {'https://www.google.com/': 0.6, 'https://www.microsoft.com/en-in': 0.4},\n",
        "    'https://www.google.com/': {'https://www.java.com/en/': 1.0},\n",
        "    'https://www.microsoft.com/en-in': {'https://www.java.com/en/': 0.5, 'https://www.google.com/': 0.5}\n",
        "}\n",
        "\n",
        "# Calculate Weighted PageRank\n",
        "ranks = weighted_pagerank(links, link_weights)\n",
        "\n",
        "# Print the final Weighted PageRank values\n",
        "print(\"Final Weighted PageRank values:\", ranks)\n"
      ],
      "metadata": {
        "colab": {
          "base_uri": "https://localhost:8080/"
        },
        "id": "R60ZmkttHbAX",
        "outputId": "03aa092b-4829-475c-b2bc-d8856be47cb3"
      },
      "execution_count": 1,
      "outputs": [
        {
          "output_type": "stream",
          "name": "stdout",
          "text": [
            "Final Weighted PageRank values: {'https://www.java.com/en/': 0.4405860625317243, 'https://www.google.com/': 0.3596141845906032, 'https://www.microsoft.com/en-in': 0.1997997528776723}\n"
          ]
        }
      ]
    }
  ]
}